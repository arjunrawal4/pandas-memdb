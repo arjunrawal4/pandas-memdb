{
 "cells": [
  {
   "cell_type": "code",
   "execution_count": 55,
   "metadata": {},
   "outputs": [
    {
     "name": "stdout",
     "output_type": "stream",
     "text": [
      "The memory_profiler extension is already loaded. To reload it, use:\n",
      "  %reload_ext memory_profiler\n"
     ]
    }
   ],
   "source": [
    "import pandas as pd\n",
    "import resource \n",
    "import pickle as pickle\n",
    "import parquet\n",
    "import pyarrow\n",
    "import feather\n",
    "import json\n",
    "import numpy as np\n",
    "\n",
    "%load_ext memory_profiler\n",
    "\n",
    "file = 'block_total.csv'\n",
    "total_lines = 17_703_908\n",
    "\n",
    "#LCLid,tstp,energy\n",
    "pred = (lambda x: (x['energy'].astype('float')) < 0.3)"
   ]
  },
  {
   "cell_type": "code",
   "execution_count": 60,
   "metadata": {},
   "outputs": [
    {
     "name": "stdout",
     "output_type": "stream",
     "text": [
      "CPU times: user 8.49 s, sys: 1.33 s, total: 9.82 s\n",
      "Wall time: 12.4 s\n"
     ]
    }
   ],
   "source": [
    "%%time\n",
    "\n",
    "df = pd.read_csv(file)\n",
    "# feather.write_dataframe(df, \"all.p\")\n",
    "# for c in df:\n",
    "#     pickle.dump(df.loc[:, [c]], open( str(c) + \".p\", \"wb\" ) )\n",
    "#     feather.write_dataframe(df.loc[:, [c]],  str(c) + \".p\")\n"
   ]
  },
  {
   "cell_type": "code",
   "execution_count": 93,
   "metadata": {},
   "outputs": [],
   "source": [
    "# len(df['tstp'].unique())\n",
    "df['LCLid']= df['LCLid'].astype('category')\n",
    "df['tstp']= df['tstp'].astype('category')\n",
    "# df['energy'] = df['energy'] / 10\n",
    "df['energy'] = df['energy'].astype('int16')\n",
    "# df[lambda x: (x['energy'].astype('int16')) - x['energy'] > 10e-15]\n"
   ]
  },
  {
   "cell_type": "code",
   "execution_count": 95,
   "metadata": {},
   "outputs": [
    {
     "data": {
      "text/plain": [
       "146369798"
      ]
     },
     "execution_count": 95,
     "metadata": {},
     "output_type": "execute_result"
    }
   ],
   "source": [
    "df.memory_usage(deep=True).sum()\n",
    "# df"
   ]
  },
  {
   "cell_type": "code",
   "execution_count": null,
   "metadata": {},
   "outputs": [],
   "source": [
    "## %%time\n",
    "%%memit\n",
    "\n",
    "# col = pickle.load( open( \"energy.p\", \"rb\" ) )\n",
    "col = feather.read_dataframe(\"energy.p\")\n",
    "\n",
    "indices = col[pred].index.tolist()\n",
    "\n",
    "df = pd.read_csv(file, skiprows=indices)\n",
    "\n",
    "print(df.shape)\n"
   ]
  },
  {
   "cell_type": "code",
   "execution_count": 23,
   "metadata": {},
   "outputs": [
    {
     "name": "stdout",
     "output_type": "stream",
     "text": [
      "(3245562, 3)\n",
      "peak memory: 2955.27 MiB, increment: 1155.29 MiB\n",
      "CPU times: user 12.3 s, sys: 2.08 s, total: 14.4 s\n",
      "Wall time: 14.9 s\n"
     ]
    }
   ],
   "source": [
    "%%time\n",
    "%%memit\n",
    "\n",
    "df = pd.read_csv(file)\n",
    "\n",
    "indices = df[pred].index\n",
    "\n",
    "df.drop(indices, inplace=True)\n",
    "print(df.shape)\n"
   ]
  },
  {
   "cell_type": "code",
   "execution_count": 63,
   "metadata": {},
   "outputs": [
    {
     "name": "stdout",
     "output_type": "stream",
     "text": [
      "(3245562, 3)\n",
      "peak memory: 2944.52 MiB, increment: 382.06 MiB\n",
      "CPU times: user 7.05 s, sys: 2.54 s, total: 9.59 s\n",
      "Wall time: 10.5 s\n"
     ]
    }
   ],
   "source": [
    "%%time\n",
    "%%memit\n",
    "\n",
    "col1 = pickle.load( open(\"LCLid.p\", \"rb\" ))\n",
    "col2 = pickle.load( open(\"tstp.p\", \"rb\" ))\n",
    "col3 = pickle.load( open(\"energy.p\", \"rb\" ))\n",
    "\n",
    "cols = pd.concat([col1, col2, col3], axis=1)\n",
    "indices = cols[pred].index\n",
    "cols.drop(indices, inplace=True)\n",
    "print(cols.shape)\n"
   ]
  },
  {
   "cell_type": "code",
   "execution_count": null,
   "metadata": {},
   "outputs": [],
   "source": []
  }
 ],
 "metadata": {
  "kernelspec": {
   "display_name": "Python 3",
   "language": "python",
   "name": "python3"
  },
  "language_info": {
   "codemirror_mode": {
    "name": "ipython",
    "version": 3
   },
   "file_extension": ".py",
   "mimetype": "text/x-python",
   "name": "python",
   "nbconvert_exporter": "python",
   "pygments_lexer": "ipython3",
   "version": "3.7.6"
  }
 },
 "nbformat": 4,
 "nbformat_minor": 4
}
