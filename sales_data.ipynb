{
 "cells": [
  {
   "cell_type": "code",
   "execution_count": 90,
   "metadata": {},
   "outputs": [],
   "source": [
    "import pandas as pd\n",
    "import resource \n",
    "\n",
    "file = 'sales.csv'\n",
    "total_lines = 500_000\n",
    "\n",
    "pred = (lambda x: x['Sales Channel'] == 'Offline')"
   ]
  },
  {
   "cell_type": "markdown",
   "metadata": {},
   "source": [
    "**Ideas**\n",
    "\n",
    "Set max memory usage and have chunksize dynamically adjust\n"
   ]
  },
  {
   "cell_type": "code",
   "execution_count": 92,
   "metadata": {},
   "outputs": [
    {
     "name": "stdout",
     "output_type": "stream",
     "text": [
      "avg line bytes 535.5\n",
      "MEM estimate 267750000.0\n",
      "lines to read 500000\n",
      "Total Current Mem Usage  132214208\n",
      "(249839, 14)\n",
      "CPU times: user 5.52 s, sys: 197 ms, total: 5.71 s\n",
      "Wall time: 5.85 s\n"
     ]
    }
   ],
   "source": [
    "%%time\n",
    "SAMPLE_SIZE = 10\n",
    "MAX_MEM_MB = 1000\n",
    "MAX_MEM_BYTES = 1024*1024*MAX_MEM_MB\n",
    "\n",
    "df_head = pd.DataFrame()\n",
    "df_head = pd.read_csv(file, nrows=SAMPLE_SIZE)\n",
    "\n",
    "avg_line_bytes = df_head.memory_usage(deep=True).sum()/SAMPLE_SIZE\n",
    "print(f'avg line bytes {avg_line_bytes}')\n",
    "\n",
    "total_mem_estimate = total_lines * avg_line_bytes\n",
    "print(f'MEM estimate {total_mem_estimate}')\n",
    "\n",
    "df_read_size = 0\n",
    "lines_read = 0\n",
    "\n",
    "df_total = pd.DataFrame()\n",
    "\n",
    "while lines_read < total_lines:\n",
    "#     print(f'lefft {total_lines -lines_read}')\n",
    "    lines_to_read = min(int((MAX_MEM_BYTES - df_read_size) / avg_line_bytes), total_lines-lines_read)\n",
    "    print(f'lines to read {lines_to_read}')\n",
    "\n",
    "    df_chunk = pd.read_csv(file, header=0, skiprows=range(1,lines_read), nrows=lines_to_read)\n",
    "    \n",
    "#     print(df_chunk.shape)\n",
    "    indices = df_chunk[pred].index\n",
    "#     print(len(indices))\n",
    "    df_chunk.drop(indices, inplace=True)\n",
    "    chunk_mem = df_chunk.memory_usage(deep=True).sum()\n",
    "    \n",
    "    df_total = pd.concat([df_total, df_chunk])\n",
    "    \n",
    "    \n",
    "    lines_read += lines_to_read\n",
    "    df_read_size += chunk_mem\n",
    "    print(f'Total Current Mem Usage  {df_read_size }')\n",
    "#     print(f'lines read {lines_read}')\n",
    "\n",
    "print(df_total.shape)"
   ]
  },
  {
   "cell_type": "code",
   "execution_count": 93,
   "metadata": {},
   "outputs": [
    {
     "name": "stdout",
     "output_type": "stream",
     "text": [
      "CPU times: user 2.95 s, sys: 934 ms, total: 3.88 s\n",
      "Wall time: 3.94 s\n"
     ]
    }
   ],
   "source": [
    "%%time\n",
    "\n",
    "df_total = pd.DataFrame()\n",
    "\n",
    "for df in pd.read_csv(file, iterator=True, chunksize=57000):\n",
    "    indices = df[pred].index\n",
    "    df.drop(indices, inplace=True)\n",
    "    df_total = pd.concat([df_total, df_chunk])\n"
   ]
  },
  {
   "cell_type": "code",
   "execution_count": 91,
   "metadata": {},
   "outputs": [
    {
     "name": "stdout",
     "output_type": "stream",
     "text": [
      "(249839, 14)\n",
      "CPU times: user 931 ms, sys: 134 ms, total: 1.07 s\n",
      "Wall time: 1.12 s\n"
     ]
    }
   ],
   "source": [
    "%%time\n",
    "\n",
    "df = pd.read_csv(file)\n",
    "\n",
    "indices = df[pred].index\n",
    "# chunk_mem = df.memory_usage(deep=True).sum()\n",
    "# print(chunk_mem)\n",
    "df.drop(indices, inplace=True)\n",
    "print(df.shape)"
   ]
  },
  {
   "cell_type": "code",
   "execution_count": null,
   "metadata": {},
   "outputs": [],
   "source": []
  }
 ],
 "metadata": {
  "kernelspec": {
   "display_name": "Python 3",
   "language": "python",
   "name": "python3"
  },
  "language_info": {
   "codemirror_mode": {
    "name": "ipython",
    "version": 3
   },
   "file_extension": ".py",
   "mimetype": "text/x-python",
   "name": "python",
   "nbconvert_exporter": "python",
   "pygments_lexer": "ipython3",
   "version": "3.7.6"
  }
 },
 "nbformat": 4,
 "nbformat_minor": 4
}
